{
 "cells": [
  {
   "cell_type": "markdown",
   "metadata": {},
   "source": [
    "\n",
    "\"Non-independence analysis/correction\n",
    "Most standard statistical methods, and most SDM techniques, assume that the response data are random samples and, thus, that errors are independent and identically distributed. However, three common kinds of non-independence could occur in SDMs: spatial autocorrelation, temporal autocorrelation and nesting (Table 1). As a result, we mandate that authors clearly describe how non-independence in data and residuals was analysed and corrected in this subsection of the Model section of ODMAP. Spatial autocorrelation in model residuals means that predicted values at nearby locations are not independent from each other (Dormann et al. 2007) (but see Diniz-Filho et al. 2003). Analogously, temporal autocorrelation in residuals may occur when consecutive time steps are not independent from each other, which might be an issue when analysing e.g. GPS locations from animal movement data. Lastly, the assumption of independence is violated if the data contain repeated observations of the same subject or are grouped or nested in some way. For example, radio-tracking animals will yield multiple, non-independent GPS locations per individual and the locations of the same individual are likely to be more related to each other than to locations of other individuals. If several individuals have been radio-tracked in different regions, then individuals from the same region may show a more similar habitat preference than individuals from different regions. If the data are grouped in such a way, then the model needs to account for this relatedness, for example by means of random effects (Zuur et al. 2009).\"\n",
    "\n",
    "\n",
    "\"Table 2. Typical model assumptions in species distribution models (Franklin 2010, Peterson et al. 2011, Guisan et al. 2017). Some of these assumptions can be relaxed by extending models accordingly. For instance, models can be built to capture occurrence dynamics, including spatial dependence, therefore relaxing the species–environment equilibrium assumption. Similarly, methods exist to address issues such as sampling bias, imperfect detection or spatial autocorrelation\n",
    "Assumption\tDescription\n",
    "Species–environment equilibrium\tSpecies fill their niche and do not occur elsewhere\n",
    "No observation bias issues\tSpecies data are free from observational bias (sampling bias, imperfect detection), or it is accounted for in the model\n",
    "Independence of species observations\tEach species record represents new information (e.g. not the same individual reported twice)\n",
    "Availability of all important predictors\tKey explanatory variables are available and incorporated in the model; ideally these should be proximal predictors, particularly when the objective is model transfer\n",
    "Predictors are free of error\tPredictors are measured (or estimated) without error\n",
    "Niche stability/constancy, niche conservatism\tSpecies retain their niches across space and time; particularly relevant when transferring predictions\n",
    "No other extrapolation issues\tRelationship fitted under current conditions apply when transferring predictions, even when projected beyond the range of the training data; no change in correlation structure of environmental variables; no change in key limiting processes (e.g. biotic interactions)\"\n",
    "\n",
    "\n",
    "- Zurrel (2020). A standard protocol for reporting species distribution models\n",
    "\n"
   ]
  },
  {
   "cell_type": "markdown",
   "metadata": {},
   "source": [
    "#### Accounting for spatial autocorrelation does not always improve performance of models.\n",
    "- In which cases then do we need to do spatial modeling? \n",
    "\n",
    "   \n",
    "    \n",
    "    - Bayesian models get better predictions when spatial effects were considered. -inclusion of prior info is important? In what sense? Especially when rare species are included. (Rare vs abundant species)\n",
    "    \n",
    "    - Single species get improved predictions when spatial autocorrelation is considered (Dormann et al. 2007).\n",
    "    \n",
    "    - Dispersal processes, historical contingencies (what does this mean?), missing covarates (Foster et al .2012). \n",
    "    \n",
    "    - For full extrapolation non-spatial model performed better. Therefore, it is important to included spatial correlation when making predictions for Sampling units are near the training data.\n",
    "    \n",
    "    \n",
    "\"HMSC.3 and HMSC.2, between GLM.5 and GLM.4,between GLM.3 and GLM.2, and between GAM.2 andGAM.1. The sole difference in each of these compar-isons is that the first model variant includes an explicit spatial structure while the second variant does not. In our overall evaluation (Fig. 2A), the spatial models per-formed better in two comparisons (HMSC.3 vs.HMSC.2 and GLM.5 vs. GLM.4), whereas the non-spa-tial model performed better in the other two compar-isons (GLM.3 vs. GLM.2 and GAM.2 vs. GAM.1) Results were similar for the case of common species,except that GAM.2 outperformed GAM.1 (Fig. 2B).Thus, Bayesian methods tended to improve when spatial effects were added, whereas ML methods did not, sug-gesting that the inclusion of prior information (even if weak) was important for the proper estimation of spatial structure, especially when also the rare species are included.The result that spatial structure increased perfor-mance for some models is in line with previous studies on single-species SDMs highlighting the importance of accounting for spatial autocorrelation (Dormann et al.2007, Record et al. 2013, Crase et al. 2014). As discussed in previous studies, this is because dispersal processes, historical contingencies, and missing covariates(Foster et al. 2012) generate spatial variation in species communities (Bokma et al. 2001, Fernando et al. 2007,Kessler 2009).\n",
    "\n",
    "___Although the degree to which dispersal and historical processes influence species occurrences might vary depending on the community type or spatial coverage of the study (Record et al. 2013), including aspatially structured random effect is recommended so as not to violate the assumption of independence among sampling units (and consequently overestimating confidence in ecological inferences or in model predictions).___ \n",
    "\n",
    "However, the utility of spatial information depends also on the prediction task: for the case of full extrapolation,the non-spatial HMSC.2 actually performed somewhat better than the spatial HMSC.3 (Fig. 3C, D), as can be expected from the grounds that the use of spatial infor-mation is especially useful for making predictions for sampling units near the training data\"\n",
    "\n",
    "- Norrberg, 2019. A comprehensive evaluation of predictive performance of 33 species\n",
    "distribution models at species and community levels\n",
    "\n"
   ]
  },
  {
   "cell_type": "code",
   "execution_count": null,
   "metadata": {},
   "outputs": [],
   "source": []
  }
 ],
 "metadata": {
  "kernelspec": {
   "display_name": "R",
   "language": "R",
   "name": "ir"
  },
  "language_info": {
   "codemirror_mode": "r",
   "file_extension": ".r",
   "mimetype": "text/x-r-source",
   "name": "R",
   "pygments_lexer": "r",
   "version": "4.0.2"
  }
 },
 "nbformat": 4,
 "nbformat_minor": 4
}
