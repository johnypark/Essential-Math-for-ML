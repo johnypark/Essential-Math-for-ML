{
 "cells": [
  {
   "cell_type": "markdown",
   "metadata": {},
   "source": [
    "- subsampling vs replication\n",
    "\n",
    "\"Subsampling (Fig. 1.36) is a method that reduces data size by selecting a subset of the original data. ... For example, in structured datasets such as image data and structured grids, selecting every nth point produces the results shown in Fig. 1.36. Subsampling modifies the topology of a dataset.\"\n",
    "\n",
    "Down-sampling and up-sampling. \n",
    "\n",
    "Replication to account for temporal auto-correlation and spatial auto-correlation\n",
    "\n",
    "subsampling? In order to increase sample size or the other way.\n",
    "\n",
    "\"Fire ecologists face many challenges regarding the statistical analyses of their studies. Hurlbert (1984) brought the problem of pseudoreplication to the scientific community’s attention in the mid 1980’s. Now, there is a new issue in the form of spatial autocorrelation. Spatial autocorrelation, if present, violates the traditional statistical assumption of observational independence. What, if anything, can the fire ecology community do about this new problem? An understanding of spatial autocorrelation, and knowledge of available methods used to reduce the effect of spatial autocorrelation and pseudoreplication will greatly assist fire ecology researchers.\"\n",
    "\n",
    "\n",
    "\n",
    "\n",
    "\n"
   ]
  },
  {
   "cell_type": "code",
   "execution_count": null,
   "metadata": {},
   "outputs": [],
   "source": []
  }
 ],
 "metadata": {
  "kernelspec": {
   "display_name": "Python 3",
   "language": "python",
   "name": "python3"
  },
  "language_info": {
   "codemirror_mode": {
    "name": "ipython",
    "version": 3
   },
   "file_extension": ".py",
   "mimetype": "text/x-python",
   "name": "python",
   "nbconvert_exporter": "python",
   "pygments_lexer": "ipython3",
   "version": "3.8.5"
  }
 },
 "nbformat": 4,
 "nbformat_minor": 4
}
