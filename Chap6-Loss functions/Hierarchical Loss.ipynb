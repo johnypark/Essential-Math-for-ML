{
 "cells": [
  {
   "cell_type": "markdown",
   "metadata": {},
   "source": [
    "\n",
    "<p float=\"left\">\n",
    "    <img src=\"Hloss_figure1.png\" alt=\"drawing\" width=\"600\"/>\n",
    "</p>\n",
    "\n",
    "Consider an example above, where we aim to esimate the categories of certain image data, with a hierarchical structure given the directed tree above, with levels 0 to 2. \n",
    "\n",
    "Definitions: <br>\n",
    "Leaf node: terminal node<br>\n",
    "Root node: the highest node in the tree sturcture <br>\n",
    "$T$ : The entire tree consisting all the categories as nodes <br>\n",
    "$n$ : A node of interest <br>\n",
    "$p(n)$ : Parent of a node, which is category one level higher to a given node $n$.<br>\n",
    "$s(n)$ : Sibling set of a node, which are all same-level catergories of $n$, which belong to the same parent $p(n)$. <br>\n",
    "$\\digamma(n)$ : Path from the root node to a leaf  <br>\n",
    "\n",
    "$ \\digamma(n)=\\{l_{0}, l_{1}, \\dots, l_{q-1}, n\\} $\n",
    "$P(n|I) = P(l_{0}|I) P(l_{1}| l_{0}) \\dots P(n| l_{q-1}) $\n",
    "\n"
   ]
  },
  {
   "cell_type": "markdown",
   "metadata": {},
   "source": [
    "\n",
    "\n",
    "Suppose for a given image $I$ we have softmax probability calculated for all categories, which is displayed in the below ben diagram.\n",
    "\n",
    "<img src=\"Ben diagram1_220204_145002-r.jpg\" alt=\"drawing\" width=\"600\"/>\n",
    "\n",
    "\n",
    "Let the given probabilits for image $I$ belonging to level 0 categories $ \\{n= 1, 2, 3\\} $ are: \n",
    "\n",
    "$ P(n=1|I)=0.7$, $P(n=2|I)=0.1$, $P(n=3|I)=0.2$. <br>\n",
    "\n",
    "And the probability for image $I$ belonging to level 1 categories, given $l_0=1$ are:\n",
    "\n",
    "$P(n=4|l_0=1)=0.15$ , $P(n=5|l_0=1)=0.7$, $P(n=6| l_0=1)=0.15$. <br><br>\n",
    "\n",
    "Then, with this example, probability of image $I$ belonging to the class 5 is conditional probability of it belonging to 5, given the parent is from category 1:\n",
    "\n",
    "$p(n=5| I)=P(l_0=1|I)*P(n=5|l_0=1)=0.7*.7=0.49 $ <br><br>\n",
    "\n",
    "Calculating probabilities for all the leaf nodes as above gives us:\n",
    "\n",
    "$[P(4|I), P(5|I), P(9|I), P(10|I), P(7|I), P(8|I)]= [0.1, 0.49, 0.01, 0.05, 0.1, 0.1. 0.1] $ <br><br>\n",
    "\n",
    "And recall the probabilities of the root nodes are:\n",
    "\n",
    "$[P(1|I), P(2|I), P(3|I)] = [0.7, 0.1, 0.2] $\n",
    "\n",
    "And let's assume that the true class of image $I$ is $C_{True}=5 $, then\n",
    "\n",
    "The hierarchical loss is $$ L (n =5 |I) = - \\sum_{x \\in \\digamma(n) } q(x|I) \\bullet ln(P(x|I)) $$\n",
    "$$ = - \\sum_{x \\in \\digamma(n)} m(x) \\cdot ln({ exp(x) \\over \\sum_{C_i \\in S(x)} exp(C_i) }) $$\n",
    "\n",
    "$$ = - [ln(P(x=5| p(x)=1))+ 2 \\cdot ln(P(x=1|I)) $$\n",
    "$$ = - [ln(0.7)+2 \\cdot ln(0.7)] = -3\\cdot ln(0.7) = 1.07\n",
    "\n",
    "\n",
    "\n",
    "\n",
    "\n",
    "\n"
   ]
  }
 ],
 "metadata": {
  "interpreter": {
   "hash": "f1428ff45c5e39095c1203748745172c87cde5db71cc20598736c4e5e3eb1fd1"
  },
  "kernelspec": {
   "display_name": "Python 3.6.13 64-bit ('py36': conda)",
   "language": "python",
   "name": "python3"
  },
  "language_info": {
   "codemirror_mode": {
    "name": "ipython",
    "version": 3
   },
   "file_extension": ".py",
   "mimetype": "text/x-python",
   "name": "python",
   "nbconvert_exporter": "python",
   "pygments_lexer": "ipython3",
   "version": "3.6.13"
  },
  "orig_nbformat": 4
 },
 "nbformat": 4,
 "nbformat_minor": 2
}
