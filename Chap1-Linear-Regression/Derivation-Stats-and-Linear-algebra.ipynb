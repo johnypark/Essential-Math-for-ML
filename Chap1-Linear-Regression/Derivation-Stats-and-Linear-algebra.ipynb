{
 "cells": [
  {
   "cell_type": "markdown",
   "metadata": {},
   "source": [
    "Linear regression is a great place to start with as an example problem to understand the essentials of machine learning. \n",
    "\n",
    "It is a simpliest setting to solve real-world problem when solution for $Ax=b$ does not exist.\n",
    "\n",
    "\n",
    "\n",
    "Let's go back to the basic, elementary school algebra.\n",
    "\n",
    "We care about the solution for simple equaiton for linear system of two variables, two equations with two unknowns:\n",
    "\n",
    "$$ 3x-y=7$$\n",
    "$$ 2x+3y=1 $$\n",
    "\n",
    "Rewriting it in matrix algebra:\n",
    "\n",
    "$$ \\begin{bmatrix} 3 & -1 \\\\ 2  & 3 \\end{bmatrix}  \\begin{bmatrix} x \\\\ y \\end{bmatrix} =\t\\begin{bmatrix} 7 \\\\ 1\\end{bmatrix} $$\n",
    "\n",
    "Is a problem of solving $ Ax=b $ where $A=\\begin{bmatrix} 3 & -1 \\\\ 2  & 3 \\end{bmatrix}$ and $b=\\begin{bmatrix} 7 \\\\ 1\\end{bmatrix}$.\n",
    "\n",
    "Is this case, determinant of $A$ exists and $A^{-1} = \\begin{bmatrix}\n",
    "  0.27 & 0.09 \\\\ \n",
    "  -0.18 & 0.27 \\\\ \n",
    "  \\end{bmatrix}$\n"
   ]
  },
  {
   "cell_type": "code",
   "execution_count": 13,
   "metadata": {},
   "outputs": [
    {
     "name": "stdout",
     "output_type": "stream",
     "text": [
      "           [,1]       [,2]\n",
      "[1,]  0.2727273 0.09090909\n",
      "[2,] -0.1818182 0.27272727\n"
     ]
    }
   ],
   "source": [
    "A_inv=solve(matrix(c(3,2,-1,3),nrow = 2))\n",
    "library(xtable)\n",
    "print(A_inv)\n",
    "#print(xtable(A_inv), floating=FALSE, tabular.environment=\"bmatrix\", hline.after=NULL, include.rownames=FALSE, include.colnames=FALSE)"
   ]
  },
  {
   "cell_type": "markdown",
   "metadata": {},
   "source": [
    "And thus $x=A^{-1}b=\\begin{bmatrix} 2\\\\-1\\end{bmatrix}$, as"
   ]
  },
  {
   "cell_type": "code",
   "execution_count": 9,
   "metadata": {},
   "outputs": [
    {
     "name": "stdout",
     "output_type": "stream",
     "text": [
      "     [,1]\n",
      "[1,]    2\n",
      "[2,]   -1\n"
     ]
    }
   ],
   "source": [
    "b=A_inv%*%matrix(c(7,1))\n",
    "print(b)"
   ]
  },
  {
   "cell_type": "markdown",
   "metadata": {},
   "source": [
    "Now we think of a situation where the system is not solvable, such as there are more eqautions than unknowns (or $det(A)=0$ case!). \n",
    "\n",
    "Example from pp 162 (Strang, 2006).\n",
    "\n",
    "$$ 1x_{1}+ 2x_{2}=b_{1} $$\n",
    "$$ 1x_{1}+3x_{2}=b_{2} $$\n",
    "$$ 0x_{1}+0x_{2}=b_{3} $$\n",
    "\n",
    "\n",
    "There is no direct solution to this problem. And this is what any other real-world problems mostly look like. \n",
    "Column space of $A$ is a two-dimensional plane within the three-dimensional space. \n",
    "Column space is spanned by two vectors $(1,1,0)$ and $(2,3,0)$, therefore $Ax$ for any x is resultedly a vector within $Col(A)$. For example, for $x=(x_{1},x_{2})$, $Ax= [1x_{1}+ 2x_{2},1x_{1}+3x_{2},0x_{1}+0x_{2}] $.\n",
    "\n",
    "Taking partial derivative to minimize equared error term gives \n",
    "\n",
    "$$ 2A^{T}Ax-2A^{T}b=0 $$ \n",
    "\n",
    "Which is the same as finding vector perpendicaular to the column space, error vector being $ e =b-A\\hat{x}$\n",
    "\n",
    "\n",
    "Thus $$ A^{T}(b-A\\hat{x})=0 $$\n",
    "\n",
    "$$ A^{T}A\\hat{x}=A^{T}b $$\n",
    "\n",
    "$$ \\label{eq1} \\hat{x}=(A^{T}A)^{-1}A^{T}b ......................................................(1) $$ \n",
    "\n",
    "Which could be represented in the figure below: \n",
    "<img src=\"Plot1_210621_170300.jpg\" width=300 height=300 />\n",
    "\n",
    "The projection matrics is \n",
    "$$ P=A(A^{T}A)^{-1}A^{T}$$"
   ]
  },
  {
   "cell_type": "markdown",
   "metadata": {},
   "source": [
    "In statistics, we think of a situation where $b=Ax+\\varepsilon $ where x are $\\beta $ which is regression coefficient. Re-writing in regression term: $$y=X\\beta+\\varepsilon$$. $$\\varepsilon \\sim N(0,\\sigma)$$\n",
    "Note that $x$ in linear algebra became $\\beta$ and matrix $A$ became $X$. \n",
    "Now, since $$y-X\\beta \\sim N(0,\\sigma)$$\n",
    "We can express the likelihood of our data given the wieghts $\\beta$, thus writing it as function of $\\beta$\n",
    "\n",
    "$$P(X,y|\\beta) \\propto L(\\beta)$$\n",
    "Where the pdf of $\\varepsilon$ is \n",
    "$$ \\propto Exp[-1/2(y-X\\beta)^{T}1/\\sigma I (y-X\\beta)] $$\n",
    "Therefore, minima of log likelihood is\n",
    "$$ \\frac{\\partial}{\\partial \\beta}log L(\\beta) \\propto (y-X\\beta)^{T}(y-X\\beta)=0 $$\n",
    "$$ \\frac{\\partial}{\\partial \\beta} (y-X\\beta)^{T}(y-X\\beta) $$\n",
    "Through product rule\n",
    "$$ = -(y-X\\beta)^{T}X-(y-X\\beta)^{T}X$$\n",
    "$$ = -2 (y-X\\beta)^{T}X $$\n",
    "$$ = -2 (y^{T}-\\beta^{T}X^{T})X $$\n",
    "$$ \\propto (y^{T}-\\beta^{T}X^{T})X =0. $$\n",
    "Therefore, \n",
    "$$\\beta^{T}X^{T}X=y^{T}X $$\n",
    "$$ \\beta^{T}=y^{T}X(X^{T}X)^{-1} $$\n",
    "Then,\n",
    "$$ \\beta=(y^{T}X(X^{T}X)^{-1})^{T} $$\n",
    "$$ \\beta=(X(X^{T}X)^{-1})^{T}y $$\n",
    "$$ \\beta=((X^{T}X)^{-1})^{T}X^{T}y $$\n",
    "Since $(X^{T}X)^{-1}={(X^{T}X)^{-1}}^{T} $,\n",
    "$$ \\beta=(X^{T}X)^{-1}X^{T}y.......................................(2) $$"
   ]
  },
  {
   "cell_type": "markdown",
   "metadata": {},
   "source": [
    "IS THIS SIMILAR?\n",
    "\n",
    "$ (2) $ $\\beta=(X^{T}X)^{-1}X^{T}y. $ in statistics is actually the same as $ (1) $ $  \\hat x=(A^{T}A)^{-1}A^{T}b$ in linear algebra. \n",
    "\n",
    "\n",
    "How did this happen?\n",
    "\n",
    "\n",
    "We used squared error term for cost funciton (loss function). "
   ]
  },
  {
   "cell_type": "markdown",
   "metadata": {},
   "source": [
    "### Example\n",
    "\n",
    "Imagine a case where $\\{(x,y)\\}=\\{{(1.00,8.42), \n",
    "  (2.00,9.07), \n",
    "  (3.00,9.90) ,\n",
    "  (4.00,-9.94),\n",
    "  (5.00,0.22) ,\n",
    "  (6.00,6.80), \n",
    "  (7.00,7.18) ,\n",
    "  (8.00,22.03) ,\n",
    "  (9.00,11.41) ,\n",
    "  (10.00,11.21)\\}}$\n",
    "  $Ax=b$ become\n",
    "\n",
    "$A=\\begin{bmatrix}\n",
    "  1.00 & 1.00 \\\\ \n",
    "  1.00 & 2.00 \\\\ \n",
    "  1.00 & 3.00 \\\\ \n",
    "  1.00 & 4.00 \\\\ \n",
    "  1.00 & 5.00 \\\\ \n",
    "  1.00 & 6.00 \\\\ \n",
    "  1.00 & 7.00 \\\\ \n",
    "  1.00 & 8.00 \\\\ \n",
    "  1.00 & 9.00 \\\\ \n",
    "  1.00 & 10.00 \\\\ \n",
    "  \\end{bmatrix}$, $b=\\begin{bmatrix}\n",
    "  8.42 \\\\ \n",
    "  9.07 \\\\ \n",
    "  9.90 \\\\ \n",
    "  -9.94 \\\\ \n",
    "  0.22 \\\\ \n",
    "  6.80 \\\\ \n",
    "  7.18 \\\\ \n",
    "  22.03 \\\\ \n",
    "  11.41 \\\\ \n",
    "  11.21 \\\\ \n",
    "  \\end{bmatrix}$\n",
    "\n",
    "$$\n",
    "\\begin{bmatrix}\n",
    "  1.00 & 1.00 & 1.00 & 1.00 & 1.00 & 1.00 & 1.00 & 1.00 & 1.00 & 1.00 \\\\ \n",
    "  1.00 & 2.00 & 3.00 & 4.00 & 5.00 & 6.00 & 7.00 & 8.00 & 9.00 & 10.00 \\\\ \n",
    "  \\end{bmatrix}\\cdot\n",
    "\\begin{bmatrix}\n",
    "  1.00 & 1.00 \\\\ \n",
    "  1.00 & 2.00 \\\\ \n",
    "  1.00 & 3.00 \\\\ \n",
    "  1.00 & 4.00 \\\\ \n",
    "  1.00 & 5.00 \\\\ \n",
    "  1.00 & 6.00 \\\\ \n",
    "  1.00 & 7.00 \\\\ \n",
    "  1.00 & 8.00 \\\\ \n",
    "  1.00 & 9.00 \\\\ \n",
    "  1.00 & 10.00 \\\\ \n",
    "  \\end{bmatrix}\n",
    "  $$"
   ]
  },
  {
   "cell_type": "markdown",
   "metadata": {},
   "source": [
    "Lets think of another data with two different fucntions for different intervals. \n",
    "\n",
    "For example, $y=f(x)$ follows \n",
    "$y=1/2x$, when $x\\in(-\\infty,10]$ and $y=(x-10)^2+5=x^2-20x+105$, when $x\\in(10,\\infty)$. With natrual noise the graph would look as below:"
   ]
  },
  {
   "cell_type": "code",
   "execution_count": 46,
   "metadata": {},
   "outputs": [
    {
     "name": "stdout",
     "output_type": "stream",
     "text": [
      "% latex table generated in R 4.0.2 by xtable 1.8-4 package\n",
      "% Wed Jun 23 10:15:39 2021\n",
      "\\begin{bmatrix}{r}\n",
      "  -0.75 \\\\ \n",
      "  1.37 \\\\ \n",
      "  -0.17 \\\\ \n",
      "  5.19 \\\\ \n",
      "  3.16 \\\\ \n",
      "  1.36 \\\\ \n",
      "  4.47 \\\\ \n",
      "  5.48 \\\\ \n",
      "  5.65 \\\\ \n",
      "  4.39 \\\\ \n",
      "  9.02 \\\\ \n",
      "  9.78 \\\\ \n",
      "  12.76 \\\\ \n",
      "  16.57 \\\\ \n",
      "  32.25 \\\\ \n",
      "  40.91 \\\\ \n",
      "  53.97 \\\\ \n",
      "  70.89 \\\\ \n",
      "  87.64 \\\\ \n",
      "  106.19 \\\\ \n",
      "  \\end{bmatrix}\n"
     ]
    },
    {
     "data": {
      "image/png": "[encoded data removed]",
      "text/plain": [
       "plot without title"
      ]
     },
     "metadata": {
      "image/png": {
       "height": 420,
       "width": 420
      },
      "text/plain": {
       "height": 420,
       "width": 420
      }
     },
     "output_type": "display_data"
    }
   ],
   "source": [
    "library(ggplot2)\n",
    "library(xtable)\n",
    "set.seed(1)\n",
    "u=seq(1:20)\n",
    "w=c(.5*u[1:10]+rnorm(10,0,2),(u[11:20]-10)^2+5+rnorm(10,0,2))\n",
    "qplot(u,c(.5*u[1:10]+rnorm(10,0,2),(u[11:20]-10)^2+5+rnorm(10,0,2)))+theme_classic()+ylab(\"y\")+xlab(\"x\")\n",
    "A=as.matrix(\n",
    "    data.frame(c(rep(1,10),rep(0,10)),\n",
    "                       c(u[1:10],rep(0,10)),\n",
    "                       c(rep(0,10),rep(1,10)),\n",
    "                       c(rep(0,10),u[11:20]),\n",
    "                       c(rep(0,10),u[11:20]^2)\n",
    "                      )\n",
    "           )\n",
    "print(xtable(as.matrix(w)), floating=FALSE, tabular.environment=\"bmatrix\", hline.after=NULL, include.rownames=FALSE, include.colnames=FALSE)\n",
    "#print(xtable(A), floating=FALSE, tabular.environment=\"bmatrix\", hline.after=NULL, include.rownames=FALSE, include.colnames=FALSE)"
   ]
  },
  {
   "cell_type": "markdown",
   "metadata": {},
   "source": [
    "We will be modeling this data again with least square method, by defining here with different bases for different intervals. Given matrix will be:\n",
    "$ A=X=\\begin{bmatrix}\n",
    "  1.00 & 1.00 & 0.00 & 0.00 & 0.00 \\\\ \n",
    "  1.00 & 2.00 & 0.00 & 0.00 & 0.00 \\\\ \n",
    "  1.00 & 3.00 & 0.00 & 0.00 & 0.00 \\\\ \n",
    "  1.00 & 4.00 & 0.00 & 0.00 & 0.00 \\\\ \n",
    "  1.00 & 5.00 & 0.00 & 0.00 & 0.00 \\\\ \n",
    "  1.00 & 6.00 & 0.00 & 0.00 & 0.00 \\\\ \n",
    "  1.00 & 7.00 & 0.00 & 0.00 & 0.00 \\\\ \n",
    "  1.00 & 8.00 & 0.00 & 0.00 & 0.00 \\\\ \n",
    "  1.00 & 9.00 & 0.00 & 0.00 & 0.00 \\\\ \n",
    "  1.00 & 10.00 & 0.00 & 0.00 & 0.00 \\\\ \n",
    "  0.00 & 0.00 & 1.00 & 11.00 & 121.00 \\\\ \n",
    "  0.00 & 0.00 & 1.00 & 12.00 & 144.00 \\\\ \n",
    "  0.00 & 0.00 & 1.00 & 13.00 & 169.00 \\\\ \n",
    "  0.00 & 0.00 & 1.00 & 14.00 & 196.00 \\\\ \n",
    "  0.00 & 0.00 & 1.00 & 15.00 & 225.00 \\\\ \n",
    "  0.00 & 0.00 & 1.00 & 16.00 & 256.00 \\\\ \n",
    "  0.00 & 0.00 & 1.00 & 17.00 & 289.00 \\\\ \n",
    "  0.00 & 0.00 & 1.00 & 18.00 & 324.00 \\\\ \n",
    "  0.00 & 0.00 & 1.00 & 19.00 & 361.00 \\\\ \n",
    "  0.00 & 0.00 & 1.00 & 20.00 & 400.00 \\\\ \n",
    "  \\end{bmatrix}\n",
    "  $\n",
    "  , and \n",
    "  $b=y=\\begin{bmatrix}\n",
    "  -0.75 \\\\ \n",
    "  1.37 \\\\ \n",
    "  -0.17 \\\\ \n",
    "  5.19 \\\\ \n",
    "  3.16 \\\\ \n",
    "  1.36 \\\\ \n",
    "  4.47 \\\\ \n",
    "  5.48 \\\\ \n",
    "  5.65 \\\\ \n",
    "  4.39 \\\\ \n",
    "  9.02 \\\\ \n",
    "  9.78 \\\\ \n",
    "  12.76 \\\\ \n",
    "  16.57 \\\\ \n",
    "  32.25 \\\\ \n",
    "  40.91 \\\\ \n",
    "  53.97 \\\\ \n",
    "  70.89 \\\\ \n",
    "  87.64 \\\\ \n",
    "  106.19 \\\\ \n",
    "  \\end{bmatrix}\n",
    "  $.\n",
    "  \n",
    "  Now solving for $\\beta=\\hat x=(A^{T}A)^{-1}A^{T}b $ gives us $\\beta=\\begin{bmatrix}\n",
    "  -0.34 \\\\ \n",
    "  0.61 \\\\ \n",
    "  134.06 \\\\ \n",
    "  -23.92 \\\\ \n",
    "  1.13 \\\\ \n",
    "  \\end{bmatrix} $."
   ]
  },
  {
   "cell_type": "code",
   "execution_count": 56,
   "metadata": {},
   "outputs": [
    {
     "name": "stdout",
     "output_type": "stream",
     "text": [
      "% latex table generated in R 4.0.2 by xtable 1.8-4 package\n",
      "% Wed Jun 23 10:33:17 2021\n",
      "\\begin{bmatrix}{r}\n",
      "  -0.34 \\\\ \n",
      "  0.61 \\\\ \n",
      "  134.06 \\\\ \n",
      "  -23.92 \\\\ \n",
      "  1.13 \\\\ \n",
      "  \\end{bmatrix}\n"
     ]
    }
   ],
   "source": [
    "print(xtable(solve(t(A)%*%A)%*%t(A)%*%w), floating=FALSE, tabular.environment=\"bmatrix\", hline.after=NULL, include.rownames=FALSE, include.colnames=FALSE)\n"
   ]
  },
  {
   "cell_type": "code",
   "execution_count": 57,
   "metadata": {},
   "outputs": [
    {
     "data": {
      "text/html": [
       "<table>\n",
       "<caption>A matrix: 2 × 1 of type dbl</caption>\n",
       "<tbody>\n",
       "\t<tr><td> 2</td></tr>\n",
       "\t<tr><td>-1</td></tr>\n",
       "</tbody>\n",
       "</table>\n"
      ],
      "text/latex": [
       "A matrix: 2 × 1 of type dbl\n",
       "\\begin{tabular}{l}\n",
       "\t  2\\\\\n",
       "\t -1\\\\\n",
       "\\end{tabular}\n"
      ],
      "text/markdown": [
       "\n",
       "A matrix: 2 × 1 of type dbl\n",
       "\n",
       "|  2 |\n",
       "| -1 |\n",
       "\n"
      ],
      "text/plain": [
       "     [,1]\n",
       "[1,]  2  \n",
       "[2,] -1  "
      ]
     },
     "metadata": {},
     "output_type": "display_data"
    }
   ],
   "source": []
  },
  {
   "cell_type": "code",
   "execution_count": null,
   "metadata": {},
   "outputs": [],
   "source": []
  }
 ],
 "metadata": {
  "kernelspec": {
   "display_name": "R",
   "language": "R",
   "name": "ir"
  },
  "language_info": {
   "codemirror_mode": "r",
   "file_extension": ".r",
   "mimetype": "text/x-r-source",
   "name": "R",
   "pygments_lexer": "r",
   "version": "4.0.2"
  }
 },
 "nbformat": 4,
 "nbformat_minor": 4
}
