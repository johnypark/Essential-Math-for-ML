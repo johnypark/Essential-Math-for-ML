{
 "cells": [
  {
   "cell_type": "markdown",
   "metadata": {},
   "source": [
    "### Logistic regression\n",
    "\n",
    "###### 6/29/2021 John Park \n",
    "Logistic regression is a fantastic place to start for classification problems. It is also great to build up on our discussion about ordinary least square regression method. More importantly, it has shockingly close connection with deep neural networks (sigmoid function, recursive generalized linear model, backward propagation, updating weights). It is essential to understand logistic regression to further advance in machine learning. \n",
    "\n",
    "Logistic regression is one of the simpliest probablistic classifiers. It has bunch of advantages, and most important one is that the outcome does not get affected by collinearity of the indepdent variables, thus robust to correlated features, and therefore is suitable for large scale data analysis (Jurafsky, 2020). Whereas naive bayes is more suitable for smaller data set and is sensitive to collinearity of the features. However it is easy to implement and train the data. \n",
    "\n",
    "In this notebook, we will cover various topics arising from derivation and implementation of logistic regression. The topics include weighted linear regression, probability distribution, conditional probability, cross entropy loss, gradient decsent, probablistic classifier.   \n",
    "\n",
    "I adapted some codes from https://philippmuens.com/logistic-regression-from-scratch"
   ]
  },
  {
   "cell_type": "markdown",
   "metadata": {},
   "source": [
    "##### Conditional probability \n",
    "\n",
    "$$\\hat y $$\n",
    "$$ P(y=1 | X) $$\n",
    "$$ P(y=0 | X) $$\n",
    "\n",
    "##### Maximum likelihood estimation of bernoulli distribution \n",
    "$$ L (\\hat y,y) $$\n",
    "###### Cross entropy Loss LCE derivation\n",
    "$$-log(p(y| x)$$\n",
    "\n",
    "###### Partial derivative of LCE $$ L_{CE} $$\n",
    "\n",
    "###### Equation for updating weight \n",
    "\n",
    "$$ W(n+1) = W(n) - \\eta [ \\sigma(W(n)^Tx+b-y)]X $$"
   ]
  },
  {
   "cell_type": "code",
   "execution_count": 17,
   "metadata": {},
   "outputs": [
    {
     "data": {
      "text/plain": [
       "'C:\\\\Users\\\\vmlea\\\\Documents\\\\Work\\\\Essential-Math-for-ML\\\\Chap1-Linear-Regression'"
      ]
     },
     "execution_count": 17,
     "metadata": {},
     "output_type": "execute_result"
    }
   ],
   "source": [
    "import numpy as np\n",
    "import pandas as pd\n",
    "import math\n",
    "import os\n",
    "import sys\n",
    "os.getcwd()"
   ]
  },
  {
   "cell_type": "code",
   "execution_count": 48,
   "metadata": {},
   "outputs": [
    {
     "data": {
      "text/plain": [
       "'C:\\\\Users\\\\vmlea\\\\Documents\\\\Work\\\\Essential-Math-for-ML\\\\Chap1-Linear-Regression'"
      ]
     },
     "execution_count": 48,
     "metadata": {},
     "output_type": "execute_result"
    }
   ],
   "source": [
    "def sigm(x):\n",
    "    return 1 / (1 + np.exp(-x))\n",
    "#assert sigm(0) == 0.5 #what is assert?\n",
    "\n",
    "def update_weight(x,w){\n",
    "    \n",
    "    \n",
    "}\n"
   ]
  },
  {
   "cell_type": "code",
   "execution_count": 96,
   "metadata": {},
   "outputs": [],
   "source": [
    "df=pd.read_csv('../data/examPF.csv')\n",
    "x=df[df.columns[0]]\n",
    "y=df[df.columns[1]]\n",
    "w=np.zeros((2,1))\n"
   ]
  },
  {
   "cell_type": "code",
   "execution_count": 105,
   "metadata": {},
   "outputs": [
    {
     "name": "stdout",
     "output_type": "stream",
     "text": [
      "[[ -6. ]\n",
      " [-26.5]]\n"
     ]
    }
   ],
   "source": [
    "x=np.array(x).reshape((12,1))\n",
    "X=np.hstack([np.ones((12,1)),x])\n",
    "y=np.array(y).reshape((12,1))\n",
    "w=((sigm(X@w)-y).T@X).reshape((2,1))\n",
    "print(w)"
   ]
  },
  {
   "cell_type": "code",
   "execution_count": 106,
   "metadata": {},
   "outputs": [
    {
     "data": {
      "text/plain": [
       "array([[4.36346226e-09],\n",
       "       [7.68120474e-15],\n",
       "       [1.35215804e-20],\n",
       "       [2.38026643e-26],\n",
       "       [4.19009324e-32],\n",
       "       [7.37601518e-38],\n",
       "       [1.29843411e-43],\n",
       "       [2.28569371e-49],\n",
       "       [4.02361249e-55],\n",
       "       [7.08295142e-61],\n",
       "       [1.24684474e-66],\n",
       "       [2.19487855e-72]])"
      ]
     },
     "execution_count": 106,
     "metadata": {},
     "output_type": "execute_result"
    }
   ],
   "source": [
    "sigm(X@w)"
   ]
  },
  {
   "cell_type": "code",
   "execution_count": 107,
   "metadata": {},
   "outputs": [
    {
     "data": {
      "text/plain": [
       "array([[0],\n",
       "       [0],\n",
       "       [0],\n",
       "       [0],\n",
       "       [1],\n",
       "       [0],\n",
       "       [1],\n",
       "       [1],\n",
       "       [0],\n",
       "       [1],\n",
       "       [1],\n",
       "       [1]], dtype=int64)"
      ]
     },
     "execution_count": 107,
     "metadata": {},
     "output_type": "execute_result"
    }
   ],
   "source": [
    "y"
   ]
  },
  {
   "cell_type": "code",
   "execution_count": 113,
   "metadata": {},
   "outputs": [
    {
     "data": {
      "image/png": "[encoded data removed]",
      "text/plain": [
       "<Figure size 432x288 with 2 Axes>"
      ]
     },
     "metadata": {
      "needs_background": "light"
     },
     "output_type": "display_data"
    }
   ],
   "source": [
    "from typing import List\n",
    "from matplotlib import pyplot as plt\n",
    "\n",
    "def sigmoid(x: float) -> float:\n",
    "    return 1 / (1 + np.exp(-x))\n",
    "\n",
    "assert sigmoid(0) == 0.5\n",
    "\n",
    "def dot(a: List[float], b: List[float]) -> float:\n",
    "    assert len(a) == len(b)\n",
    "    return sum([a_i * b_i for a_i, b_i in zip(a, b)])\n",
    "\n",
    "assert dot([1, 2, 3, 4], [5, 6, 7, 8]) == 70\n",
    "\n",
    "def squish(beta: List[float], x: List[float]) -> float:\n",
    "    assert len(beta) == len(x)\n",
    "    # Calculate the dot product\n",
    "    dot_result: float = dot(beta, x)\n",
    "    # Use sigmoid to get a result between 0 and 1\n",
    "    return sigmoid(dot_result)\n",
    "\n",
    "assert squish([1, 2, 3, 4], [5, 6, 7, 8]) == 1.0\n",
    "\n",
    "def neg_log_likelihood(y: float, y_pred: float) -> float:\n",
    "    return -((y * np.log(y_pred)) + ((1 - y) * np.log(1 - y_pred)))\n",
    "\n",
    "assert 2.30 < neg_log_likelihood(1, 0.1) < 2.31\n",
    "assert 2.30 < neg_log_likelihood(0, 0.9) < 2.31\n",
    "assert 0.10 < neg_log_likelihood(1, 0.9) < 0.11\n",
    "assert 0.10 < neg_log_likelihood(0, 0.1) < 0.11\n",
    "\n",
    "def error(ys: List[float], ys_pred: List[float]) -> float:\n",
    "    assert len(ys) == len(ys_pred)\n",
    "    num_items: int = len(ys)\n",
    "    sum_nll: float = sum([neg_log_likelihood(y, y_pred) for y, y_pred in zip(ys, ys_pred)])\n",
    "    return (1 / num_items) * sum_nll\n",
    "\n",
    "assert 2.30 < error([1], [0.1]) < 2.31\n",
    "assert 2.30 < error([0], [0.9]) < 2.31\n",
    "assert 0.10 < error([1], [0.9]) < 0.11\n",
    "assert 0.10 < error([0], [0.1]) < 0.11\n",
    "\n",
    "\n",
    "\n",
    "\n",
    "xs_nll: List[float] = [x / 10000 for x in range(1, 10000)]\n",
    "\n",
    "fig, (ax1, ax2) = plt.subplots(1, 2)\n",
    "ax1.plot(xs_nll, [neg_log_likelihood(1, x) for x in xs_nll])\n",
    "ax1.set_title('y = 1')\n",
    "ax2.plot(xs_nll, [neg_log_likelihood(0, x) for x in xs_nll])\n",
    "ax2.set_title('y = 0');\n"
   ]
  },
  {
   "cell_type": "code",
   "execution_count": 117,
   "metadata": {},
   "outputs": [
    {
     "ename": "SyntaxError",
     "evalue": "invalid syntax (<ipython-input-117-b16d240a3deb>, line 1)",
     "output_type": "error",
     "traceback": [
      "\u001b[1;36m  File \u001b[1;32m\"<ipython-input-117-b16d240a3deb>\"\u001b[1;36m, line \u001b[1;32m1\u001b[0m\n\u001b[1;33m    wget -nc -P data https://raw.githubusercontent.com/animesh-agarwal/Machine-Learning/5b2d8a71984016ae021094641a3815d6ea9ac527/LogisticRegression/data/marks.txt\u001b[0m\n\u001b[1;37m                ^\u001b[0m\n\u001b[1;31mSyntaxError\u001b[0m\u001b[1;31m:\u001b[0m invalid syntax\n"
     ]
    }
   ],
   "source": []
  },
  {
   "cell_type": "code",
   "execution_count": 121,
   "metadata": {},
   "outputs": [
    {
     "name": "stdout",
     "output_type": "stream",
     "text": [
      "Starting with \"beta\": [0.04868611418430281, 0.05070880437041495]\n"
     ]
    },
    {
     "ename": "AssertionError",
     "evalue": "",
     "output_type": "error",
     "traceback": [
      "\u001b[1;31m---------------------------------------------------------------------------\u001b[0m",
      "\u001b[1;31mAssertionError\u001b[0m                            Traceback (most recent call last)",
      "\u001b[1;32m<ipython-input-121-d79b5568eb7a>\u001b[0m in \u001b[0;36m<module>\u001b[1;34m\u001b[0m\n\u001b[0;32m     12\u001b[0m \u001b[1;32mfor\u001b[0m \u001b[0mepoch\u001b[0m \u001b[1;32min\u001b[0m \u001b[0mrange\u001b[0m\u001b[1;33m(\u001b[0m\u001b[0mepochs\u001b[0m\u001b[1;33m)\u001b[0m\u001b[1;33m:\u001b[0m\u001b[1;33m\u001b[0m\u001b[1;33m\u001b[0m\u001b[0m\n\u001b[0;32m     13\u001b[0m     \u001b[1;31m# Calculate the \"predictions\" (squishified dot product of `beta` and `x`) based on our current `beta` vector\u001b[0m\u001b[1;33m\u001b[0m\u001b[1;33m\u001b[0m\u001b[1;33m\u001b[0m\u001b[0m\n\u001b[1;32m---> 14\u001b[1;33m     \u001b[0mys_pred\u001b[0m\u001b[1;33m:\u001b[0m \u001b[0mList\u001b[0m\u001b[1;33m[\u001b[0m\u001b[0mfloat\u001b[0m\u001b[1;33m]\u001b[0m \u001b[1;33m=\u001b[0m \u001b[1;33m[\u001b[0m\u001b[0msquish\u001b[0m\u001b[1;33m(\u001b[0m\u001b[0mbeta\u001b[0m\u001b[1;33m,\u001b[0m \u001b[0mx\u001b[0m\u001b[1;33m)\u001b[0m \u001b[1;32mfor\u001b[0m \u001b[0mx\u001b[0m \u001b[1;32min\u001b[0m \u001b[0mxs\u001b[0m\u001b[1;33m]\u001b[0m\u001b[1;33m\u001b[0m\u001b[1;33m\u001b[0m\u001b[0m\n\u001b[0m\u001b[0;32m     15\u001b[0m \u001b[1;33m\u001b[0m\u001b[0m\n\u001b[0;32m     16\u001b[0m     \u001b[1;31m# Calculate and print the error\u001b[0m\u001b[1;33m\u001b[0m\u001b[1;33m\u001b[0m\u001b[1;33m\u001b[0m\u001b[0m\n",
      "\u001b[1;32m<ipython-input-121-d79b5568eb7a>\u001b[0m in \u001b[0;36m<listcomp>\u001b[1;34m(.0)\u001b[0m\n\u001b[0;32m     12\u001b[0m \u001b[1;32mfor\u001b[0m \u001b[0mepoch\u001b[0m \u001b[1;32min\u001b[0m \u001b[0mrange\u001b[0m\u001b[1;33m(\u001b[0m\u001b[0mepochs\u001b[0m\u001b[1;33m)\u001b[0m\u001b[1;33m:\u001b[0m\u001b[1;33m\u001b[0m\u001b[1;33m\u001b[0m\u001b[0m\n\u001b[0;32m     13\u001b[0m     \u001b[1;31m# Calculate the \"predictions\" (squishified dot product of `beta` and `x`) based on our current `beta` vector\u001b[0m\u001b[1;33m\u001b[0m\u001b[1;33m\u001b[0m\u001b[1;33m\u001b[0m\u001b[0m\n\u001b[1;32m---> 14\u001b[1;33m     \u001b[0mys_pred\u001b[0m\u001b[1;33m:\u001b[0m \u001b[0mList\u001b[0m\u001b[1;33m[\u001b[0m\u001b[0mfloat\u001b[0m\u001b[1;33m]\u001b[0m \u001b[1;33m=\u001b[0m \u001b[1;33m[\u001b[0m\u001b[0msquish\u001b[0m\u001b[1;33m(\u001b[0m\u001b[0mbeta\u001b[0m\u001b[1;33m,\u001b[0m \u001b[0mx\u001b[0m\u001b[1;33m)\u001b[0m \u001b[1;32mfor\u001b[0m \u001b[0mx\u001b[0m \u001b[1;32min\u001b[0m \u001b[0mxs\u001b[0m\u001b[1;33m]\u001b[0m\u001b[1;33m\u001b[0m\u001b[1;33m\u001b[0m\u001b[0m\n\u001b[0m\u001b[0;32m     15\u001b[0m \u001b[1;33m\u001b[0m\u001b[0m\n\u001b[0;32m     16\u001b[0m     \u001b[1;31m# Calculate and print the error\u001b[0m\u001b[1;33m\u001b[0m\u001b[1;33m\u001b[0m\u001b[1;33m\u001b[0m\u001b[0m\n",
      "\u001b[1;32m<ipython-input-113-8ba27ee06b36>\u001b[0m in \u001b[0;36msquish\u001b[1;34m(beta, x)\u001b[0m\n\u001b[0;32m     14\u001b[0m \u001b[1;33m\u001b[0m\u001b[0m\n\u001b[0;32m     15\u001b[0m \u001b[1;32mdef\u001b[0m \u001b[0msquish\u001b[0m\u001b[1;33m(\u001b[0m\u001b[0mbeta\u001b[0m\u001b[1;33m:\u001b[0m \u001b[0mList\u001b[0m\u001b[1;33m[\u001b[0m\u001b[0mfloat\u001b[0m\u001b[1;33m]\u001b[0m\u001b[1;33m,\u001b[0m \u001b[0mx\u001b[0m\u001b[1;33m:\u001b[0m \u001b[0mList\u001b[0m\u001b[1;33m[\u001b[0m\u001b[0mfloat\u001b[0m\u001b[1;33m]\u001b[0m\u001b[1;33m)\u001b[0m \u001b[1;33m->\u001b[0m \u001b[0mfloat\u001b[0m\u001b[1;33m:\u001b[0m\u001b[1;33m\u001b[0m\u001b[1;33m\u001b[0m\u001b[0m\n\u001b[1;32m---> 16\u001b[1;33m     \u001b[1;32massert\u001b[0m \u001b[0mlen\u001b[0m\u001b[1;33m(\u001b[0m\u001b[0mbeta\u001b[0m\u001b[1;33m)\u001b[0m \u001b[1;33m==\u001b[0m \u001b[0mlen\u001b[0m\u001b[1;33m(\u001b[0m\u001b[0mx\u001b[0m\u001b[1;33m)\u001b[0m\u001b[1;33m\u001b[0m\u001b[1;33m\u001b[0m\u001b[0m\n\u001b[0m\u001b[0;32m     17\u001b[0m     \u001b[1;31m# Calculate the dot product\u001b[0m\u001b[1;33m\u001b[0m\u001b[1;33m\u001b[0m\u001b[1;33m\u001b[0m\u001b[0m\n\u001b[0;32m     18\u001b[0m     \u001b[0mdot_result\u001b[0m\u001b[1;33m:\u001b[0m \u001b[0mfloat\u001b[0m \u001b[1;33m=\u001b[0m \u001b[0mdot\u001b[0m\u001b[1;33m(\u001b[0m\u001b[0mbeta\u001b[0m\u001b[1;33m,\u001b[0m \u001b[0mx\u001b[0m\u001b[1;33m)\u001b[0m\u001b[1;33m\u001b[0m\u001b[1;33m\u001b[0m\u001b[0m\n",
      "\u001b[1;31mAssertionError\u001b[0m: "
     ]
    }
   ],
   "source": [
    "from random import random\n",
    "xs=x\n",
    "ys=y\n",
    "\n",
    "beta: List[float] = [random() / 10 for _ in range(2)]\n",
    "\n",
    "print(f'Starting with \"beta\": {beta}')\n",
    "\n",
    "epochs: int = 12\n",
    "learning_rate: float = 0.01\n",
    "\n",
    "for epoch in range(epochs):\n",
    "    # Calculate the \"predictions\" (squishified dot product of `beta` and `x`) based on our current `beta` vector\n",
    "    ys_pred: List[float] = [squish(beta, x) for x in xs]\n",
    "\n",
    "    # Calculate and print the error\n",
    "    if epoch % 1000 == True:\n",
    "        loss: float = error(ys, ys_pred)\n",
    "        print(f'Epoch {epoch} --> loss: {loss}')\n",
    "\n",
    "    # Calculate the gradient\n",
    "    grad: List[float] = [0 for _ in range(len(beta))]\n",
    "    for x, y in zip(xs, ys):\n",
    "        err: float = squish(beta, x) - y\n",
    "        for i, x_i in enumerate(x):\n",
    "            grad[i] += (err * x_i)\n",
    "    grad = [1 / len(x) * g_i for g_i in grad]\n",
    "\n",
    "    # Take a small step in the direction of greatest decrease\n",
    "    beta = [b + (gb * -learning_rate) for b, gb in zip(beta, grad)]\n",
    "\n",
    "print(f'Best estimate for \"beta\": {beta}')\n"
   ]
  },
  {
   "cell_type": "code",
   "execution_count": null,
   "metadata": {},
   "outputs": [],
   "source": []
  }
 ],
 "metadata": {
  "kernelspec": {
   "display_name": "Python 3",
   "language": "python",
   "name": "python3"
  },
  "language_info": {
   "codemirror_mode": {
    "name": "ipython",
    "version": 3
   },
   "file_extension": ".py",
   "mimetype": "text/x-python",
   "name": "python",
   "nbconvert_exporter": "python",
   "pygments_lexer": "ipython3",
   "version": "3.8.5"
  }
 },
 "nbformat": 4,
 "nbformat_minor": 4
}
