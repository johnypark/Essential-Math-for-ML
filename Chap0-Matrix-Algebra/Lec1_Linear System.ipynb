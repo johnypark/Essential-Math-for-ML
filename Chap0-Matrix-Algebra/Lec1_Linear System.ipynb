{
 "cells": [
  {
   "cell_type": "code",
   "execution_count": 12,
   "metadata": {},
   "outputs": [],
   "source": [
    "###\n",
    "###\n",
    "# how to do inner product between matrix with shape one dimension?\n",
    "# ex ) np.array([0,0]) has shape (2,)\n",
    "# but the dot proudct of this array with and array with shape (10,1) does not work\n",
    "import pandas as pd\n",
    "import numpy as np\n",
    "\n",
    "df=pd.read_csv('../data/examPF.csv')\n",
    "x=np.array(df[df.columns[0]])\n",
    "X=np.column_stack((np.ones(12),x))\n",
    "w0=np.array([0,0]).reshape((2,1))\n",
    "A=X\n",
    "X=w0"
   ]
  },
  {
   "cell_type": "markdown",
   "metadata": {},
   "source": [
    "1. Creating a matrix in python. \n",
    "Linear system. Numpy array to matrix. using reshape((n,m)). For creating a matrix with n rows and m columns. \n",
    "One dimensional vector can be created as below, but normally in linear algebra one-dimensional vector is column vector, which has dimension of n by 1. In Numpy, typical one dimensional vector has single dimension, which is n."
   ]
  },
  {
   "cell_type": "code",
   "execution_count": 30,
   "metadata": {},
   "outputs": [
    {
     "data": {
      "text/plain": [
       "1"
      ]
     },
     "execution_count": 30,
     "metadata": {},
     "output_type": "execute_result"
    }
   ],
   "source": [
    "v=np.ones(8)\n",
    "len(v.shape)"
   ]
  },
  {
   "cell_type": "markdown",
   "metadata": {},
   "source": [
    "The problem with this setting is that naturally occuring one-dimensional vector cannot be used in matrix operations. Take look at this example. "
   ]
  },
  {
   "cell_type": "code",
   "execution_count": 48,
   "metadata": {},
   "outputs": [
    {
     "name": "stdout",
     "output_type": "stream",
     "text": [
      "(array([ 1.,  5.,  9., 13., 17., 21., 25., 29.]), array([[ 1.],\n",
      "       [ 5.],\n",
      "       [ 9.],\n",
      "       [13.],\n",
      "       [17.],\n",
      "       [21.],\n",
      "       [25.],\n",
      "       [29.]]), array([ 1.,  5.,  9., 13., 17., 21., 25., 29.]))\n"
     ]
    },
    {
     "data": {
      "text/plain": [
       "((8,), (8, 1), (8,))"
      ]
     },
     "execution_count": 48,
     "metadata": {},
     "output_type": "execute_result"
    }
   ],
   "source": [
    "v=np.ones(2);\n",
    "w=np.arange(16).reshape((8,2));\n",
    "ans=(w@v.T,\n",
    "w@v.reshape((2,1)),\n",
    "w@v)\n",
    "print(ans)\n",
    "(ans[0].shape,\n",
    " ans[1].shape,\n",
    " ans[2].shape\n",
    ")"
   ]
  },
  {
   "cell_type": "markdown",
   "metadata": {},
   "source": [
    "One need to make it a vector with 2-dimensional length. How? The answer is \"reshape\". "
   ]
  },
  {
   "cell_type": "markdown",
   "metadata": {},
   "source": [
    "2. Operator\n",
    "Matrix multiplications. Inner products. "
   ]
  },
  {
   "cell_type": "code",
   "execution_count": 21,
   "metadata": {},
   "outputs": [
    {
     "name": "stdout",
     "output_type": "stream",
     "text": [
      "[[0.]\n",
      " [0.]\n",
      " [0.]\n",
      " [0.]\n",
      " [0.]\n",
      " [0.]\n",
      " [0.]\n",
      " [0.]\n",
      " [0.]\n",
      " [0.]\n",
      " [0.]\n",
      " [0.]]\n",
      "Dimensions of each matrix:\n"
     ]
    },
    {
     "data": {
      "text/plain": [
       "((12, 2), (2, 1), (12, 1))"
      ]
     },
     "execution_count": 21,
     "metadata": {},
     "output_type": "execute_result"
    }
   ],
   "source": [
    "# Matrix multiplications.\n",
    "print(A@X)\n",
    "print(\"Dimensions of each matrix:\")\n",
    "A.shape, X.shape, (A@X).shape "
   ]
  },
  {
   "cell_type": "markdown",
   "metadata": {},
   "source": [
    "## Inner products\n",
    "\n"
   ]
  },
  {
   "cell_type": "code",
   "execution_count": 24,
   "metadata": {},
   "outputs": [
    {
     "data": {
      "text/plain": [
       "array([[0.],\n",
       "       [0.],\n",
       "       [0.],\n",
       "       [0.],\n",
       "       [0.],\n",
       "       [0.],\n",
       "       [0.],\n",
       "       [0.],\n",
       "       [0.],\n",
       "       [0.],\n",
       "       [0.],\n",
       "       [0.]])"
      ]
     },
     "execution_count": 24,
     "metadata": {},
     "output_type": "execute_result"
    }
   ],
   "source": [
    "np.dot(A,X) # matches"
   ]
  },
  {
   "cell_type": "code",
   "execution_count": 26,
   "metadata": {},
   "outputs": [
    {
     "data": {
      "text/plain": [
       "array([[0.],\n",
       "       [0.],\n",
       "       [0.],\n",
       "       [0.],\n",
       "       [0.],\n",
       "       [0.],\n",
       "       [0.],\n",
       "       [0.],\n",
       "       [0.],\n",
       "       [0.],\n",
       "       [0.],\n",
       "       [0.]])"
      ]
     },
     "execution_count": 26,
     "metadata": {},
     "output_type": "execute_result"
    }
   ],
   "source": [
    "A@X"
   ]
  },
  {
   "cell_type": "markdown",
   "metadata": {},
   "source": [
    "Read: \n",
    "https://stackoverflow.com/questions/22737000/one-dimensional-array-shapes-length-vs-length-1-vs-length"
   ]
  }
 ],
 "metadata": {
  "kernelspec": {
   "display_name": "Python 3",
   "language": "python",
   "name": "python3"
  },
  "language_info": {
   "codemirror_mode": {
    "name": "ipython",
    "version": 3
   },
   "file_extension": ".py",
   "mimetype": "text/x-python",
   "name": "python",
   "nbconvert_exporter": "python",
   "pygments_lexer": "ipython3",
   "version": "3.8.5"
  }
 },
 "nbformat": 4,
 "nbformat_minor": 4
}
