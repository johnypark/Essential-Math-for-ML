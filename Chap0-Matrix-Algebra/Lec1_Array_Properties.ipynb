{
 "cells": [
  {
   "cell_type": "markdown",
   "metadata": {},
   "source": [
    "In NumPy, when the dimension of matrix matches either column or row of the matrix, it performs operation with the corresponding columns (or rows). For example,\n",
    "\n",
    "$A=\\begin{bmatrix}\n",
    "a_{11} & a_{12} & a_{13}\\\\\n",
    "a_{21} & a_{22} & a_{23}\n",
    "\\end{bmatrix}$, $B=\\begin{bmatrix}\n",
    "b_{11} \\\\\n",
    "b_{21} \n",
    "\\end{bmatrix}$\n",
    "\n",
    "\n",
    "$ A+B= \\begin{bmatrix}\n",
    "A_{1}+B & A_{2}+B & A_{3}+B\n",
    "\\end{bmatrix}$\n",
    "\n",
    "Lets take a look at the below example:"
   ]
  },
  {
   "cell_type": "code",
   "execution_count": 76,
   "metadata": {},
   "outputs": [
    {
     "data": {
      "text/plain": [
       "(array([[ 1.14942146, -1.18918251, -0.53028114],\n",
       "        [-0.27223153, -0.62291622,  0.92609425]]),\n",
       " array([[0],\n",
       "        [1]]),\n",
       " array([[ 1.14942146, -1.18918251, -0.53028114],\n",
       "        [ 0.72776847,  0.37708378,  1.92609425]]))"
      ]
     },
     "execution_count": 76,
     "metadata": {},
     "output_type": "execute_result"
    }
   ],
   "source": [
    "import numpy as np\n",
    "a = np.random.randn(2, 3)#.reshape((2,3))\n",
    "b = np.arange(2).reshape((2,1)) \n",
    "c = a + b \n",
    "a,b,c"
   ]
  },
  {
   "cell_type": "markdown",
   "metadata": {},
   "source": [
    "Such property is quite useful generating matrices of interest. For example, let's say that we want to generate a matrix, \n",
    "$ B= \\begin{bmatrix}\n",
    "B_{1} & B_{2}&\\cdots& B_{m}\n",
    "\\end{bmatrix}$ such that $B_{i}=\\begin{bmatrix} i-1 \\\\ i \\\\ \\vdots \\\\ i+n-1\\end{bmatrix}$. \n",
    "\n",
    "We can simply start with a row identity matrix of column $m$, and mulitply it by column sequence matrix $\\begin{bmatrix} 0\\\\1\\\\\\vdots\\\\n-1\\end{bmatrix}$, to get the following matrix $\\begin{bmatrix}\n",
    "B_{1} & B_{1}&\\cdots& B_{1} \\end{bmatrix} =\\begin{bmatrix} 0 & 0 & \\cdots & 0\\\\ 1 & 1 & \\cdots & 1 \\\\ \\vdots & & & \\vdots \\\\  n-1 & n-1 & \\cdots & n-1 \\end{bmatrix}$. Then we add a row sequence matrix $\\begin{bmatrix} 0& 1 & \\cdots & m \\end{bmatrix}$ to get $ B= \\begin{bmatrix}\n",
    "B_{1} & B_{2}&\\cdots& B_{m}\n",
    "\\end{bmatrix}$. See the below example:"
   ]
  },
  {
   "cell_type": "code",
   "execution_count": 80,
   "metadata": {},
   "outputs": [
    {
     "data": {
      "text/plain": [
       "(array([[ 0,  1,  2],\n",
       "        [ 3,  4,  5],\n",
       "        [ 6,  7,  8],\n",
       "        [ 9, 10, 11]]),\n",
       " array([[0., 1.],\n",
       "        [1., 2.],\n",
       "        [2., 3.]]),\n",
       " array([[ 5.,  8.],\n",
       "        [14., 26.],\n",
       "        [23., 44.],\n",
       "        [32., 62.]]))"
      ]
     },
     "execution_count": 80,
     "metadata": {},
     "output_type": "execute_result"
    }
   ],
   "source": [
    "a = np.arange(12).reshape(4, 3)\n",
    "b=np.ones(2)*np.arange(3).reshape(3,1)+np.arange(2).reshape(1,2)\n",
    "a,b,a@b"
   ]
  },
  {
   "cell_type": "code",
   "execution_count": 45,
   "metadata": {},
   "outputs": [
    {
     "data": {
      "text/plain": [
       "array([[-0.32513332,  1.50175137,  1.87014817],\n",
       "       [ 2.62916916,  2.09790145,  0.55520074]])"
      ]
     },
     "execution_count": 45,
     "metadata": {},
     "output_type": "execute_result"
    }
   ],
   "source": [
    "#def "
   ]
  },
  {
   "cell_type": "code",
   "execution_count": 73,
   "metadata": {},
   "outputs": [
    {
     "data": {
      "text/plain": [
       "(array([[ 0,  1,  2],\n",
       "        [ 3,  4,  5],\n",
       "        [ 6,  7,  8],\n",
       "        [ 9, 10, 11]]),\n",
       " array([[0., 1.],\n",
       "        [1., 2.],\n",
       "        [2., 3.]]),\n",
       " array([[ 5.,  8.],\n",
       "        [14., 26.],\n",
       "        [23., 44.],\n",
       "        [32., 62.]]))"
      ]
     },
     "execution_count": 73,
     "metadata": {},
     "output_type": "execute_result"
    }
   ],
   "source": []
  },
  {
   "cell_type": "code",
   "execution_count": 53,
   "metadata": {},
   "outputs": [],
   "source": [
    "a.shape = (3,4); b.shape = (4,1);\n",
    "for i in range(3): \n",
    "    for j in range(4): \n",
    "        c[i][j] = a[i][j] + b[j] "
   ]
  },
  {
   "cell_type": "code",
   "execution_count": 43,
   "metadata": {},
   "outputs": [],
   "source": [
    "a=(np.ones(12)+2).reshape((3,4))"
   ]
  },
  {
   "cell_type": "code",
   "execution_count": 44,
   "metadata": {},
   "outputs": [],
   "source": [
    "b=np.array((1,2,3,4)).reshape((4,1))\n",
    "c=np.zeros(12).reshape((3,4))"
   ]
  },
  {
   "cell_type": "code",
   "execution_count": 45,
   "metadata": {},
   "outputs": [],
   "source": [
    "a.shape = (3,4); b.shape = (4,1);\n",
    "for i in range(3): \n",
    "    for j in range(4): \n",
    "        c[i][j] = a[i][j] + b[j] "
   ]
  },
  {
   "cell_type": "code",
   "execution_count": 51,
   "metadata": {},
   "outputs": [
    {
     "data": {
      "text/plain": [
       "array([[4., 5., 6., 7.],\n",
       "       [4., 5., 6., 7.],\n",
       "       [4., 5., 6., 7.]])"
      ]
     },
     "execution_count": 51,
     "metadata": {},
     "output_type": "execute_result"
    }
   ],
   "source": [
    "a+b.T"
   ]
  }
 ],
 "metadata": {
  "kernelspec": {
   "display_name": "Python 3",
   "language": "python",
   "name": "python3"
  },
  "language_info": {
   "codemirror_mode": {
    "name": "ipython",
    "version": 3
   },
   "file_extension": ".py",
   "mimetype": "text/x-python",
   "name": "python",
   "nbconvert_exporter": "python",
   "pygments_lexer": "ipython3",
   "version": "3.8.5"
  }
 },
 "nbformat": 4,
 "nbformat_minor": 4
}
