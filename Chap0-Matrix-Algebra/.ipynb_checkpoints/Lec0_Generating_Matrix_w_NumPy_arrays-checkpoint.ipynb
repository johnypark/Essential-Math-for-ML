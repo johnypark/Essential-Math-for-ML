{
 "cells": [
  {
   "cell_type": "markdown",
   "metadata": {},
   "source": [
    "1. Python data type. List, tuple, array.\n",
    "\n",
    "1-1. List\n",
    "- When list is useful: \"list comprehensions, or listcomps\", a quick way to build sequence. "
   ]
  },
  {
   "cell_type": "code",
   "execution_count": 6,
   "metadata": {},
   "outputs": [
    {
     "data": {
      "text/plain": [
       "[('Red', 1),\n",
       " ('Red', 2),\n",
       " ('Red', 3),\n",
       " ('Green', 1),\n",
       " ('Green', 2),\n",
       " ('Green', 3),\n",
       " ('Blue', 1),\n",
       " ('Blue', 2),\n",
       " ('Blue', 3)]"
      ]
     },
     "execution_count": 6,
     "metadata": {},
     "output_type": "execute_result"
    }
   ],
   "source": [
    "#from Fluent Python, Ramalho. \n",
    "colors=['Red','Green','Blue']\n",
    "numbers=[1,2,3]\n",
    "hats=[(color,number) for color in colors for number in numbers]\n",
    "hats"
   ]
  },
  {
   "cell_type": "markdown",
   "metadata": {},
   "source": [
    "- Another incidence when list is useful: list.append."
   ]
  },
  {
   "cell_type": "code",
   "execution_count": 10,
   "metadata": {},
   "outputs": [
    {
     "name": "stdout",
     "output_type": "stream",
     "text": [
      "[0, 1, 2, 3, 4, 5, 6, 7, 8, 9]\n"
     ]
    }
   ],
   "source": [
    "numbers=[]\n",
    "for i in range(10):\n",
    "    numbers.append(i)\n",
    "print(numbers)"
   ]
  },
  {
   "cell_type": "markdown",
   "metadata": {},
   "source": [
    "1-2 .tuple\n",
    "- What is tuple? \n",
    "\n",
    "\n",
    "\n",
    "1-3. array (Numpy array).\n",
    "\n",
    "4. random. zeros. ones. arange. \n",
    "\n",
    "5. diag. "
   ]
  },
  {
   "cell_type": "code",
   "execution_count": null,
   "metadata": {},
   "outputs": [],
   "source": []
  }
 ],
 "metadata": {
  "kernelspec": {
   "display_name": "Python 3",
   "language": "python",
   "name": "python3"
  },
  "language_info": {
   "codemirror_mode": {
    "name": "ipython",
    "version": 3
   },
   "file_extension": ".py",
   "mimetype": "text/x-python",
   "name": "python",
   "nbconvert_exporter": "python",
   "pygments_lexer": "ipython3",
   "version": "3.8.5"
  }
 },
 "nbformat": 4,
 "nbformat_minor": 4
}
