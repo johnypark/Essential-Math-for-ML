{
 "cells": [
  {
   "cell_type": "markdown",
   "metadata": {},
   "source": [
    "This notebook is a summary of theories and definitions of Prof. Gilbert Strang's book: \"Linear Algebra and its applications\".\n",
    "\n"
   ]
  },
  {
   "cell_type": "markdown",
   "metadata": {},
   "source": [
    "#### Chap 1. Matrices and Gaussian Eliminations. Theorems and Definitions ###\n",
    "1L. Inverse of $AB$. \n",
    "$$ (AB)^{-1}=B^{-1}A^{-1} $$\n",
    "\n",
    "2L. Every nonsingular matrix is invertible.\n",
    "\n",
    "3L. An n by n matrix is invertible iff it has n pivots.\n",
    "\n",
    "4L. tanspose of $AB$.\n",
    "$$ (AB)^{T}=B^{T}A^{T} $$\n",
    "\n",
    "5L. Tanspose of $A^{-1}$.\n",
    "$$ (A^{-1})^{T}=(A^{T})^{-1} $$\n",
    "\n",
    "6L. For a given matrix $R$,\n",
    "$$RR^{T}=R^{T}R$$\n",
    "\n",
    "7L. Ill conditioned and well conditioned matrices. \n",
    "\n",
    "8L. If $A=A^{T}$, $A=LDU=LDL^{T}$.\n",
    "\n",
    "\n",
    "\n",
    "\n",
    "1D. Definition of transpose.\n",
    "$$(A_{ij})^{T}=A_{ji}$$\n",
    "\n",
    "2D. A band matirx $A$ with $w$ has $a_{ij}=0 $ except the band $\\abs{i-j}<w$.\n",
    "\n",
    "3D. The matrix A is tridiagonal iff $w=1$.\n",
    "\n",
    "\n",
    "\n",
    "\n",
    "\n",
    "\n",
    "\n",
    "\n"
   ]
  },
  {
   "cell_type": "markdown",
   "metadata": {},
   "source": [
    "#### Practice with Python NumPy."
   ]
  },
  {
   "cell_type": "code",
   "execution_count": null,
   "metadata": {},
   "outputs": [],
   "source": [
    "##1 Defintions of matries; A, B, R. \n",
    "\n"
   ]
  },
  {
   "cell_type": "markdown",
   "metadata": {},
   "source": [
    "#### Chap 2. Vector Spaces. Theorems and Definitions."
   ]
  },
  {
   "cell_type": "code",
   "execution_count": null,
   "metadata": {},
   "outputs": [],
   "source": []
  }
 ],
 "metadata": {
  "kernelspec": {
   "display_name": "Python 3",
   "language": "python",
   "name": "python3"
  },
  "language_info": {
   "codemirror_mode": {
    "name": "ipython",
    "version": 3
   },
   "file_extension": ".py",
   "mimetype": "text/x-python",
   "name": "python",
   "nbconvert_exporter": "python",
   "pygments_lexer": "ipython3",
   "version": "3.8.5"
  }
 },
 "nbformat": 4,
 "nbformat_minor": 4
}
